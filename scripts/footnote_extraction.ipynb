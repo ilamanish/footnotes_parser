{
 "cells": [
  {
   "cell_type": "markdown",
   "metadata": {},
   "source": [
    "Importing required libraries"
   ]
  },
  {
   "cell_type": "code",
   "execution_count": 26,
   "metadata": {},
   "outputs": [],
   "source": [
    "import xml.etree.ElementTree as ET\n",
    "import os\n",
    "from pathlib import Path\n",
    "import csv\n"
   ]
  },
  {
   "cell_type": "markdown",
   "metadata": {},
   "source": [
    "Function to extract footnotes and save them to a CSV file."
   ]
  },
  {
   "cell_type": "code",
   "execution_count": 43,
   "metadata": {},
   "outputs": [
    {
     "name": "stdout",
     "output_type": "stream",
     "text": [
      "Footnotes extracted and saved to data/footnotes/the_land_of_the_perumauls/files/The_Land_of_the_Perumauls/page/extracted_footnotes.csv\n"
     ]
    }
   ],
   "source": [
    "# Define the namespace used in the XML\n",
    "namespace = {'pc': 'http://schema.primaresearch.org/PAGE/gts/pagecontent/2013-07-15'}\n",
    "\n",
    "# Find all TextRegion elements with 'footnote' in their custom attribute\n",
    "footnote_data = {}\n",
    "field_names = ['File Name', 'Footnote']\n",
    "def extract_footnotes(filepath):\n",
    "    xml_files_path = Path(filepath).rglob('*.xml')\n",
    "    for file in xml_files_path:\n",
    "        xml_file = str(file)\n",
    "        tree = ET.parse(xml_file)\n",
    "        root = tree.getroot()\n",
    "        for text_region in root.findall(\".//pc:TextRegion\", namespace):\n",
    "            page = root.find('.//pc:Page', namespace)\n",
    "            page_name = page.attrib.get('imageFilename')\n",
    "            custom_attr = text_region.attrib.get('custom', '')\n",
    "            if 'structure {type:footnote;}' in custom_attr:\n",
    "                footnotes_text = []\n",
    "                current_footnote = []\n",
    "                # Extract TextLine elements within the TextRegion\n",
    "                for text_line in text_region.findall(\".//pc:TextLine\", namespace):\n",
    "                    # Get the Unicode content\n",
    "                    unicode_elem = text_line.find(\".//pc:Unicode\", namespace)\n",
    "                    if unicode_elem is not None:\n",
    "                        text = unicode_elem.text.strip()\n",
    "                        # Check if it is a new footnote\n",
    "                        if text.startswith('*') or text.startswith('†') or text.startswith('‡'):\n",
    "                            # Save any existing footnote\n",
    "                            if current_footnote:\n",
    "                                footnotes_text.append(' '.join(current_footnote))\n",
    "                                # Clear out current footnote data\n",
    "                                current_footnote = []\n",
    "                            # Update current_footnote with new footnote text\n",
    "                            current_footnote.append(text)\n",
    "                        # If it not a new footnote, continue adding to existing footnote text\n",
    "                        else:\n",
    "                            current_footnote.append(text)\n",
    "                # Add last footnote\n",
    "                if current_footnote:\n",
    "                    footnotes_text.append(' '.join(current_footnote))\n",
    "                # Save footnotes information to dictionary\n",
    "                footnote_data.update({\n",
    "                    page_name: footnotes_text})\n",
    "    \n",
    "    # Write the footnotes to a CSV file\n",
    "    output_file = Path(filepath) / 'extracted_footnotes.csv'\n",
    "    with open(output_file, 'w', newline='', encoding='utf-8') as csvfile:\n",
    "        writer = csv.writer(csvfile)\n",
    "        writer.writerow(field_names)\n",
    "\n",
    "        for file_name, footnotes in footnote_data.items():\n",
    "            for footnote in footnotes:\n",
    "                writer.writerow([file_name, footnote])\n",
    "                \n",
    "    print(f\"Footnotes extracted and saved to {output_file}\")\n",
    "\n",
    "extract_footnotes('data/footnotes/the_land_of_the_perumauls/files/The_Land_of_the_Perumauls/page')\n",
    "# print(len(footnote_data))\n",
    "# print((footnote_data['0064_the_land_of_the_perumauls_page_64.jpg']))"
   ]
  }
 ],
 "metadata": {
  "kernelspec": {
   "display_name": "Python 3 (ipykernel)",
   "language": "python",
   "name": "python3"
  },
  "language_info": {
   "codemirror_mode": {
    "name": "ipython",
    "version": 3
   },
   "file_extension": ".py",
   "mimetype": "text/x-python",
   "name": "python",
   "nbconvert_exporter": "python",
   "pygments_lexer": "ipython3",
   "version": "3.10.9"
  }
 },
 "nbformat": 4,
 "nbformat_minor": 2
}
