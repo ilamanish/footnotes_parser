{
 "cells": [
  {
   "cell_type": "code",
   "execution_count": 2,
   "metadata": {},
   "outputs": [],
   "source": [
    "# Import the required libraries and packages\n",
    "from pdf2image import convert_from_path"
   ]
  },
  {
   "cell_type": "code",
   "execution_count": null,
   "metadata": {},
   "outputs": [
    {
     "name": "stdout",
     "output_type": "stream",
     "text": [
      "The pages of ./digital_archives/administrative_archives/travancore_state_manual_volume_three/travancore_state_manual_volume_three have been successfully converted and saved as JPEG files\n"
     ]
    }
   ],
   "source": [
    "# Function to convert PDF pages to JPEG images and save them\n",
    "def pdf_to_image(pdf):\n",
    "    images = convert_from_path(f'{pdf}.pdf') # Convert pages to images\n",
    "    for i in range(len(images)): # Save the images\n",
    "        images[i].save(f'{pdf}_page_{str(i+1)}.jpg', 'JPEG')\n",
    "    print(f'The pages of {pdf} have been successfully converted and saved as JPEG files')\n",
    "\n",
    "# pdf_to_image('data/digital_archives/administrative_archives/the_land_of_the_perumauls/the_land_of_the_perumauls.pdf')\n",
    "# pdf_to_image('data/digital_archives/administrative_archives/travancore_state_manual_volume_one/travancore_state_manual_volume_one.pdf')\n",
    "# pdf_to_image('data/digital_archives/administrative_archives/travancore_state_manual_volume_three/travancore_state_manual_volume_three.pdf')\n",
    "# pdf_to_image('data/digital_archives/administrative_archives/travancore_state_manual_volume_three/travancore_state_manual_volume_three')\n",
    "\n"
   ]
  },
  {
   "cell_type": "code",
   "execution_count": 64,
   "metadata": {},
   "outputs": [
    {
     "name": "stdout",
     "output_type": "stream",
     "text": [
      "JSON file '<_io.TextIOWrapper name='./data/digital_archives/administrative_archives/the_land_of_the_perumauls/the_land_of_the_perumauls_page_images/the_land_of_the_perumauls.json' mode='w' encoding='UTF-8'>' has been created with 640 entries.\n"
     ]
    }
   ],
   "source": [
    "import os\n",
    "import json\n",
    "\n",
    "# Function to create a JSON file from the generated JPG files\n",
    "def create_json(image_dir, document_name):\n",
    "    # List to hold image data\n",
    "    image_data = []\n",
    "    # Iterate over each file in the directory\n",
    "    for filename in os.listdir(image_dir):\n",
    "        # Check if the file is a jpg image\n",
    "        if filename.endswith(\".jpg\"):\n",
    "            # Add the image path to the list\n",
    "            image_data.append({'data':{\"page\": f\"{image_dir}/{filename}\"}})\n",
    "    json_file = \"image_data.json\"\n",
    "    # Write the list to a JSON file\n",
    "    with open(f'{image_dir}/{document_name}.json', \"w\") as json_file:\n",
    "        json.dump(image_data, json_file, indent=2)\n",
    "\n",
    "    print(f\"JSON file '{json_file}' has been created with {len(image_data)} entries.\")\n",
    "\n",
    "create_json('./data/digital_archives/administrative_archives/the_land_of_the_perumauls/the_land_of_the_perumauls_page_images', 'the_land_of_the_perumauls')\n",
    "# create_json('data/digital_archives/administrative_archives/travancore_state_manual_volume_one/travancore_state_manual_volume_one_page_images', 'travancore_state_manual_volume_one')\n",
    "# create_json('data/digital_archives/administrative_archives/travancore_state_manual_volume_two/travancore_state_manual_volume_two_page_images', 'travancore_state_manual_volume_two')\n",
    "# create_json('data/digital_archives/administrative_archives/travancore_state_manual_volume_three/travancore_state_manual_volume_three_page_images', 'travancore_state_manual_volume_three')"
   ]
  },
  {
   "cell_type": "markdown",
   "metadata": {},
   "source": [
    "Connecting to Label Studio using an API"
   ]
  },
  {
   "cell_type": "code",
   "execution_count": 2,
   "metadata": {},
   "outputs": [],
   "source": [
    "# Define the URL where Label Studio is accessible and the API key for your user account\n",
    "LABEL_STUDIO_URL = 'http://localhost:8080'\n",
    "# API key is available at the Account & Settings > Access Tokens page in Label Studio UI\n",
    "API_KEY = 'be8e1c39bec98a9d25c84ea7a9234a9bdc5306aa'\n",
    "\n",
    "# Import the SDK and the client module\n",
    "from label_studio_sdk.client import LabelStudio\n",
    "\n",
    "# Connect to the Label Studio API and check the connection\n",
    "ls = LabelStudio(base_url=LABEL_STUDIO_URL, api_key=API_KEY)"
   ]
  }
 ],
 "metadata": {
  "kernelspec": {
   "display_name": "Python 3 (ipykernel)",
   "language": "python",
   "name": "python3"
  },
  "language_info": {
   "codemirror_mode": {
    "name": "ipython",
    "version": 3
   },
   "file_extension": ".py",
   "mimetype": "text/x-python",
   "name": "python",
   "nbconvert_exporter": "python",
   "pygments_lexer": "ipython3",
   "version": "3.10.9"
  }
 },
 "nbformat": 4,
 "nbformat_minor": 2
}
