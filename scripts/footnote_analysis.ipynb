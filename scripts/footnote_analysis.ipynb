{
 "cells": [
  {
   "cell_type": "markdown",
   "metadata": {},
   "source": [
    "Importing required libraries"
   ]
  },
  {
   "cell_type": "code",
   "execution_count": 52,
   "metadata": {},
   "outputs": [],
   "source": [
    "import pandas as pd\n",
    "from collections import Counter\n",
    "import csv"
   ]
  },
  {
   "cell_type": "markdown",
   "metadata": {},
   "source": [
    "Load footnotes from previously created CSV"
   ]
  },
  {
   "cell_type": "code",
   "execution_count": 15,
   "metadata": {},
   "outputs": [],
   "source": [
    "footnotes_df = pd.read_csv('data/footnotes/the_land_of_the_perumauls_xml_export/files/The_Land_of_the_Perumauls/page/extracted_footnotes.csv')\n",
    "footnotes = footnotes_df['Footnote'].to_list()"
   ]
  },
  {
   "cell_type": "markdown",
   "metadata": {},
   "source": [
    "Assessing for source of records"
   ]
  },
  {
   "cell_type": "code",
   "execution_count": 38,
   "metadata": {},
   "outputs": [
    {
     "name": "stdout",
     "output_type": "stream",
     "text": [
      "Portuguese: (88.8125, 16) \n",
      "Dutch: (57.93333333333333, 30) \n",
      "Other: (44.44767441860465, 172)\n"
     ]
    }
   ],
   "source": [
    "portuguese_word_count = []\n",
    "dutch_word_count = []\n",
    "other_sources_word_count = []\n",
    "for item in footnotes:\n",
    "    item_len = len(item.split(' '))\n",
    "    if 'Portuguese' in item:\n",
    "        portuguese_word_count.append(item_len)\n",
    "    if 'Dutch' in item:\n",
    "        dutch_word_count.append(item_len)\n",
    "    elif 'Portuguese' not in item and 'Dutch' not in item:\n",
    "        other_sources_word_count.append(item_len)\n",
    "    \n",
    "def find_avg(list):\n",
    "    return sum(list)/len(list)\n",
    "    \n",
    "print(f'Portuguese: {find_avg(portuguese_word_count), len(portuguese_word_count)} \\nDutch: {find_avg(dutch_word_count), len(dutch_word_count)} \\nOther: {find_avg(other_sources_word_count), len(other_sources_word_count)}')"
   ]
  },
  {
   "cell_type": "markdown",
   "metadata": {},
   "source": [
    "Assessing for geographic scope of records"
   ]
  },
  {
   "cell_type": "code",
   "execution_count": 74,
   "metadata": {},
   "outputs": [
    {
     "name": "stdout",
     "output_type": "stream",
     "text": [
      "Cochin: (56.48148148148148, 54) \n",
      "Malabar: (62.875, 16) \n",
      "Travancore: (68.81818181818181, 11) \n",
      "Madras: (48.9, 10) \n",
      "Ceylon: (49.42857142857143, 7) \n",
      "Other: (44.229007633587784, 131)\n"
     ]
    }
   ],
   "source": [
    "cochin_word_count = []\n",
    "malabar_word_count = []\n",
    "travancore_word_count = []\n",
    "madras_word_count = []\n",
    "ceylon_word_count=[]\n",
    "other_places_word_count = []\n",
    "for item in footnotes:\n",
    "    item_len = len(item.split(' '))\n",
    "    if 'Cochin' in item:\n",
    "        cochin_word_count.append(item_len)\n",
    "    if 'Malabar' in item:\n",
    "        malabar_word_count.append(item_len)\n",
    "    if 'Travancore' in item:\n",
    "        travancore_word_count.append(item_len)\n",
    "    if 'Madras' in item:\n",
    "        madras_word_count.append(item_len)\n",
    "    if 'Ceylon' in item:\n",
    "        ceylon_word_count.append(item_len)\n",
    "    elif 'Cochin' not in item and 'Malabar' not in item and 'Travancore' not in item and 'Madras' not in item and 'Ceylon' not in item:\n",
    "        other_places_word_count.append(item_len)\n",
    "    \n",
    "def find_avg(list):\n",
    "    return sum(list)/len(list)\n",
    "    \n",
    "print(f'Cochin: {find_avg(cochin_word_count), len(cochin_word_count)} \\nMalabar: {find_avg(malabar_word_count), len(malabar_word_count)} \\nTravancore: {find_avg(travancore_word_count), len(travancore_word_count)} \\nMadras: {find_avg(madras_word_count), len(madras_word_count)} \\nCeylon: {find_avg(ceylon_word_count), len(ceylon_word_count)} \\nOther: {find_avg(other_places_word_count), len(other_places_word_count)}')"
   ]
  },
  {
   "cell_type": "markdown",
   "metadata": {},
   "source": [
    "Assessing general patterns in length of footnotes"
   ]
  },
  {
   "cell_type": "code",
   "execution_count": 72,
   "metadata": {},
   "outputs": [
    {
     "name": "stdout",
     "output_type": "stream",
     "text": [
      "Max: 276 \n",
      "Min: 4 \n",
      "Avg: 48.8\n",
      "6 6\n"
     ]
    }
   ],
   "source": [
    "# Counting max, min, and average word counts across all footnotes\n",
    "max = 0\n",
    "min = 5\n",
    "word_counts = []\n",
    "for item in footnotes:\n",
    "    word_count = len(item.split(' '))\n",
    "    word_counts.append(word_count)\n",
    "    if word_count > max:\n",
    "        max = word_count\n",
    "    elif word_count < min:\n",
    "        min = word_count\n",
    "avg = sum(word_counts)/len(word_counts)\n",
    "print(f'Max: {max} \\nMin: {min} \\nAvg: {avg}')\n",
    "\n",
    "# Grouping word counts\n",
    "for i in range(len(word_counts)):\n",
    "    if 0 < word_counts[i] < 11:\n",
    "        word_counts[i] = 7\n",
    "    elif 10 < word_counts[i] < 41:\n",
    "        word_counts[i] = 35\n",
    "    elif 40 < word_counts[i] < 81:\n",
    "        word_counts[i] = 60\n",
    "    elif 80 < word_counts[i] < 151:\n",
    "        word_counts[i] = 120\n",
    "    elif 150 < word_counts[i] < 201:\n",
    "        word_counts[i] = 175\n",
    "    elif 200 < word_counts[i] < 300:\n",
    "        word_counts[i] = 250\n",
    "# Creating a dictionary of unique word counts and their frequencies\n",
    "unique_word_counts = list(Counter(word_counts).keys())\n",
    "word_count_freq = list(Counter(word_counts).values())\n",
    "print(len(unique_word_counts), len(word_count_freq))\n",
    "\n",
    "# Saving unique word counts and their frequencies to a csv\n",
    "with open('data/footnotes/the_land_of_the_perumauls_xml_export/word_count_frequencies.csv', 'w', newline = '') as f:\n",
    "    writer = csv.writer(f)\n",
    "    writer.writerow(['Word Count', 'Frequency'])\n",
    "    for i in range(len(unique_word_counts)):\n",
    "        writer.writerow([unique_word_counts[i], word_count_freq[i]])"
   ]
  },
  {
   "cell_type": "markdown",
   "metadata": {},
   "source": [
    "Pulling up certain footnotes based on assessed word count patterns"
   ]
  },
  {
   "cell_type": "code",
   "execution_count": 73,
   "metadata": {},
   "outputs": [
    {
     "name": "stdout",
     "output_type": "stream",
     "text": [
      "* Colebrooke Asiatic Researches, Vol. 8., p. 383.\n",
      "* Paoli. Page 348.\n",
      "* Secret orders, of the Batavian Government. Government Records.\n",
      "* Moens' Memorial. Dutch Government records.\n",
      "* Asiatic Researches, Vol. 8, page 44.\n",
      "* Report of Director of Public Instruction, for 1850-60.\n",
      "* Cochin Sircar Records M.S.S., dated December 26th 1781\n",
      "* Forbes' Oriental Memoirs. Vol. II, p. 132.\n",
      "* Dutch Government records of Cochin. M.S.S dated, March 1766.\n",
      "* Mackenzie Manuscripts, Book No. 3. Countermark 896.\n",
      "* Mullen's Missions in South India, page 130.\n",
      "‡ Sir Emerson Tennent, Ceylon.\n",
      "* From a return, furnished by the Master Attendant.\n",
      "* Tohfut-ul-Mujahideen translated by Rawlinson.\n",
      "* Strange, page 67. Civil Law.\n",
      "* Sir W. Jones, vol. 5, page 160.\n",
      "* Weitbrech's Missions in Bengal.\n",
      "* Dutch Government Records M.S.S.\n",
      "† Memorial of Van Anglebeck, 1793.\n",
      "* Ceylon, and its capabilities.\n",
      "* From a return furnished by the Joint Magistrate.\n",
      "* Secret orders, of Supreme Government of Batavia. Cochin Records;\n",
      "* A large in the Cochin State.\n",
      "* Lieutenant Conners' and Ward's Report.\n",
      "* Official report to the Governor of Cochin. M.S.S.\n",
      "* Major Jervis, Memoirs of the Konkun, 1840.\n",
      "* Return furnished by Mr. Green, Revenue Sheristadar.\n",
      "* Colonel Welsh's \"Military Reminiscences,\" vol. 2, poge 86.\n",
      "* Colebrooke, Forbes' Oriental Memoirs, Vol. II, p. 310.\n",
      "* Cutcherry Records. M.S.S.\n",
      "* Memorial of Governor Moens. Official Records M. S. S.\n",
      "* Governor Moens' memorial to his successor, 1781.\n",
      "* Government order, dated September 27th, 1836.\n",
      "* Dutch, Government Records. M.S.S.\n",
      "* Wilford, Asiatic Researches, Vol. 9 page 96.\n",
      "* Dutch Government Records of Cochin M.S.S.\n",
      "† Memorial of Commandant F. Canes, dated, December 31st, 1756.\n",
      "* M.S.S., Report of Commissioners, to Lord Cornwallis, 1793.\n",
      "* Kennedy's Researches, page 291.\n",
      "* Sir Wm. Jones Vol. vi. p. 418.\n",
      "‡ H.T. Colebrooke, Asiatic Researches, Vol. ix. p. 289.\n",
      "* Returns of Lieutenants Connor, and Ward. M.S.S. Official Records.\n",
      "* Lieutenant Taylor's Official report, H. M. surveying vessel Bheema.\n",
      "* Report of the Commissioners, dated Ayacotta, October 11th, 1793.\n",
      "* From the Official Records in Cochin Cutcherry 1843.\n",
      "* The Cochin Native Government.\n",
      "* Lord Stanley's despatch on education in India.\n",
      "* Master Attendant's Official report, 1862.\n"
     ]
    }
   ],
   "source": [
    "for item in footnotes:\n",
    "    if 0 < len(item.split(' ')) < 11:\n",
    "        print(item)"
   ]
  }
 ],
 "metadata": {
  "kernelspec": {
   "display_name": "Python 3 (ipykernel)",
   "language": "python",
   "name": "python3"
  },
  "language_info": {
   "codemirror_mode": {
    "name": "ipython",
    "version": 3
   },
   "file_extension": ".py",
   "mimetype": "text/x-python",
   "name": "python",
   "nbconvert_exporter": "python",
   "pygments_lexer": "ipython3",
   "version": "3.10.9"
  }
 },
 "nbformat": 4,
 "nbformat_minor": 2
}
