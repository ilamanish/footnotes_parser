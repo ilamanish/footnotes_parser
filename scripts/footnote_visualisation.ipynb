{
 "cells": [
  {
   "cell_type": "markdown",
   "metadata": {},
   "source": [
    "Importing the required libraries"
   ]
  },
  {
   "cell_type": "code",
   "execution_count": 1,
   "metadata": {},
   "outputs": [],
   "source": [
    "import pandas as pd"
   ]
  },
  {
   "cell_type": "markdown",
   "metadata": {},
   "source": [
    "Loading the saved statistics CSV as a dataframe"
   ]
  },
  {
   "cell_type": "code",
   "execution_count": 3,
   "metadata": {},
   "outputs": [
    {
     "data": {
      "text/html": [
       "<div>\n",
       "<style scoped>\n",
       "    .dataframe tbody tr th:only-of-type {\n",
       "        vertical-align: middle;\n",
       "    }\n",
       "\n",
       "    .dataframe tbody tr th {\n",
       "        vertical-align: top;\n",
       "    }\n",
       "\n",
       "    .dataframe thead th {\n",
       "        text-align: right;\n",
       "    }\n",
       "</style>\n",
       "<table border=\"1\" class=\"dataframe\">\n",
       "  <thead>\n",
       "    <tr style=\"text-align: right;\">\n",
       "      <th></th>\n",
       "      <th>page_file</th>\n",
       "      <th>footnote_text</th>\n",
       "      <th>cluster_label</th>\n",
       "      <th>word_count</th>\n",
       "    </tr>\n",
       "  </thead>\n",
       "  <tbody>\n",
       "    <tr>\n",
       "      <th>0</th>\n",
       "      <td>0109_the_land_of_the_perumauls_page_109.jpg</td>\n",
       "      <td>* Repelim is known as Eddapully or Ellengaloor...</td>\n",
       "      <td>3</td>\n",
       "      <td>13</td>\n",
       "    </tr>\n",
       "    <tr>\n",
       "      <th>1</th>\n",
       "      <td>0359_the_land_of_the_perumauls_page_359.jpg</td>\n",
       "      <td>* It is curious that it has been asserted, and...</td>\n",
       "      <td>0</td>\n",
       "      <td>36</td>\n",
       "    </tr>\n",
       "    <tr>\n",
       "      <th>2</th>\n",
       "      <td>0065_the_land_of_the_perumauls_page_65.jpg</td>\n",
       "      <td>* This appears to have been an ancient symbol,...</td>\n",
       "      <td>3</td>\n",
       "      <td>15</td>\n",
       "    </tr>\n",
       "    <tr>\n",
       "      <th>3</th>\n",
       "      <td>0258_the_land_of_the_perumauls_page_258.jpg</td>\n",
       "      <td>* History is silent respecting what became of ...</td>\n",
       "      <td>0</td>\n",
       "      <td>46</td>\n",
       "    </tr>\n",
       "    <tr>\n",
       "      <th>4</th>\n",
       "      <td>0258_the_land_of_the_perumauls_page_258.jpg</td>\n",
       "      <td>† It seems that after the advent of the Dutch,...</td>\n",
       "      <td>6</td>\n",
       "      <td>68</td>\n",
       "    </tr>\n",
       "  </tbody>\n",
       "</table>\n",
       "</div>"
      ],
      "text/plain": [
       "                                     page_file  \\\n",
       "0  0109_the_land_of_the_perumauls_page_109.jpg   \n",
       "1  0359_the_land_of_the_perumauls_page_359.jpg   \n",
       "2   0065_the_land_of_the_perumauls_page_65.jpg   \n",
       "3  0258_the_land_of_the_perumauls_page_258.jpg   \n",
       "4  0258_the_land_of_the_perumauls_page_258.jpg   \n",
       "\n",
       "                                       footnote_text  cluster_label  \\\n",
       "0  * Repelim is known as Eddapully or Ellengaloor...              3   \n",
       "1  * It is curious that it has been asserted, and...              0   \n",
       "2  * This appears to have been an ancient symbol,...              3   \n",
       "3  * History is silent respecting what became of ...              0   \n",
       "4  † It seems that after the advent of the Dutch,...              6   \n",
       "\n",
       "   word_count  \n",
       "0          13  \n",
       "1          36  \n",
       "2          15  \n",
       "3          46  \n",
       "4          68  "
      ]
     },
     "execution_count": 3,
     "metadata": {},
     "output_type": "execute_result"
    }
   ],
   "source": [
    "data = pd.read_csv('data/consolidated_footnotes.csv')\n",
    "data.head()"
   ]
  }
 ],
 "metadata": {
  "kernelspec": {
   "display_name": "Python 3 (ipykernel)",
   "language": "python",
   "name": "python3"
  },
  "language_info": {
   "codemirror_mode": {
    "name": "ipython",
    "version": 3
   },
   "file_extension": ".py",
   "mimetype": "text/x-python",
   "name": "python",
   "nbconvert_exporter": "python",
   "pygments_lexer": "ipython3",
   "version": "3.10.9"
  }
 },
 "nbformat": 4,
 "nbformat_minor": 2
}
