{
 "cells": [
  {
   "cell_type": "markdown",
   "metadata": {},
   "source": [
    "Importing the required libraries"
   ]
  },
  {
   "cell_type": "code",
   "execution_count": 2,
   "metadata": {},
   "outputs": [],
   "source": [
    "import pandas as pd\n",
    "import matplotlib.pyplot as plt\n",
    "from matplotlib.offsetbox import OffsetImage, AnnotationBbox\n",
    "import os\n",
    "import re\n",
    "from PIL import Image\n",
    "%matplotlib widget"
   ]
  },
  {
   "cell_type": "markdown",
   "metadata": {},
   "source": [
    "Loading the saved statistics CSV as a dataframe"
   ]
  },
  {
   "cell_type": "code",
   "execution_count": null,
   "metadata": {},
   "outputs": [],
   "source": [
    "data = pd.read_csv('data/output_data/the_land_of_the_perumauls/consolidated_footnotes.csv')\n",
    "data.head()"
   ]
  },
  {
   "cell_type": "markdown",
   "metadata": {},
   "source": [
    "Creating a function that prints the footnote and opens the relevant page given a keyword parameter."
   ]
  },
  {
   "cell_type": "code",
   "execution_count": null,
   "metadata": {},
   "outputs": [],
   "source": [
    "def open_footnote(keyword):\n",
    "    keyword_df = data[data['footnote_text'].apply(lambda x: re.search(keyword, x, re.IGNORECASE) is not None)]\n",
    "    if len(keyword_df) == 0:\n",
    "        print(f'No footnotes found for {keyword}')\n",
    "        return None\n",
    "    else:\n",
    "        for i in range(len(keyword_df)):\n",
    "            print(keyword_df.iloc[i]['footnote_text'])\n",
    "            page_file = keyword_df.iloc[i]['page_file']\n",
    "            img = Image.open(f'data/digital_archives/administrative_archives/the_land_of_the_perumauls/the_land_of_the_perumauls_page_images/{page_file}')\n",
    "            img.show()\n",
    "        return keyword_df\n",
    "    \n",
    "# filtered_footnotes = open_footnote('caste|castes')\n",
    "# display(filtered_footnotes['footnote_text'].values)"
   ]
  },
  {
   "cell_type": "code",
   "execution_count": null,
   "metadata": {},
   "outputs": [],
   "source": [
    "portuguese_word_count = []\n",
    "dutch_word_count = []\n",
    "jew_word_count = []\n",
    "syrian_word_count = []\n",
    "hindu_word_count = []\n",
    "muslim_word_count = []\n",
    "other_sources_word_count = []\n",
    "for i in range(len(data)):\n",
    "    item = data['footnote_text'].iloc[i]\n",
    "    item_len = data['cluster_label'].iloc[i]\n",
    "    if re.search('portuguese', item, re.IGNORECASE):\n",
    "        portuguese_word_count.append(item_len)\n",
    "    if re.search('dutch', item, re.IGNORECASE):\n",
    "        dutch_word_count.append(item_len)\n",
    "    if re.search('jew|jewish|jews', item, re.IGNORECASE):\n",
    "        jew_word_count.append(item_len)\n",
    "    if re.search('syrian|syrians|romo-syrian|romo-syrians', item, re.IGNORECASE):\n",
    "        syrian_word_count.append(item_len)\n",
    "    if re.search('hindu|hindus', item, re.IGNORECASE):\n",
    "        hindu_word_count.append(item_len)\n",
    "    if re.search('mahomedan|mahomedans|mussalmen', item, re.IGNORECASE):\n",
    "        muslim_word_count.append(item_len)\n",
    "    elif not re.search('portuguese|dutch|jew|jewish|jews|syrian|syrians', item, re.IGNORECASE):\n",
    "        other_sources_word_count.append(item_len)\n",
    "    \n",
    "def find_avg(list):\n",
    "    return sum(list)/len(list)\n",
    "    \n",
    "print(f'Portuguese | Max: {max(portuguese_word_count)} Min: {min(portuguese_word_count)} Avg: {find_avg(portuguese_word_count)} Len: {len(portuguese_word_count)}')\n",
    "print(f'Dutch | Max: {max(dutch_word_count)} Min: {min(dutch_word_count)} Avg: {find_avg(dutch_word_count)} Len: {len(dutch_word_count)}')\n",
    "print(f'Jew | Max: {max(jew_word_count)} Min: {min(jew_word_count)} Avg: {find_avg(jew_word_count)} Len: {len(jew_word_count)}')\n",
    "print(f'Syrian | Max: {max(syrian_word_count)} Min: {min(syrian_word_count)} Avg: {find_avg(syrian_word_count)} Len: {len(syrian_word_count)}')\n",
    "print(f'Hindu | Max: {max(hindu_word_count)} Min: {min(hindu_word_count)} Avg: {find_avg(hindu_word_count)} Len: {len(hindu_word_count)}')\n",
    "print(f'Muslim | Max: {max(muslim_word_count)} Min: {min(muslim_word_count)} Avg: {find_avg(muslim_word_count)} Len: {len(muslim_word_count)}')\n",
    "print(f'Other sources | Max: {max(other_sources_word_count)} Min: {min(other_sources_word_count)} Avg: {find_avg(other_sources_word_count)} Len: {len(other_sources_word_count)}')"
   ]
  },
  {
   "cell_type": "code",
   "execution_count": null,
   "metadata": {},
   "outputs": [],
   "source": [
    "def plot_keyword_cluster_pie_chart(keyword, title):\n",
    "    keyword_df = data[data['footnote_text'].apply(lambda x: re.search(keyword, x, re.IGNORECASE) is not None)]\n",
    "    cluster_counts = keyword_df['cluster_label'].value_counts()\n",
    "    fig, ax = plt.subplots(figsize=(6,6), subplot_kw=dict(aspect=\"equal\"))\n",
    "    plt.subplots_adjust(left=0.1, right=0.7, top=0.9, bottom=0.1)\n",
    "    ax.pie(cluster_counts, labels=cluster_counts.index, autopct='%1.1f%%', startangle=90, colors=plt.cm.Paired(range(len(cluster_counts))))\n",
    "    ax.axis('equal')  # Equal aspect ratio ensures that pie is drawn as a circle.\n",
    "    plt.title(f'Word Counts for Footnotes Containing \"{title}\"')\n",
    "\n",
    "    # Add legend with hardcoded ranges\n",
    "    cluster_ranges = {\n",
    "        0: '3-21 words',\n",
    "        1: '170-221 words',\n",
    "        2: '48-74 words',\n",
    "        3: '77-108 words',\n",
    "        4: '283-302 words',\n",
    "        5: '22-47 words',\n",
    "        6: '117-153 words'\n",
    "    }\n",
    "    handles = [plt.Line2D([0], [0], marker='o', color='w', markerfacecolor=plt.cm.Paired(i), markersize=10) for i in range(len(cluster_ranges))]\n",
    "    labels = [f'Cluster {i}: {cluster_ranges[i]}' for i in cluster_counts.index]\n",
    "    ax.legend(handles, labels, loc='upper left', bbox_to_anchor=(0.9, 0.23), fontsize='small')\n",
    "    # Save the plot\n",
    "    plt.savefig(f'data/output_data/the_land_of_the_perumauls/{title}_word_count_freq.png')\n",
    "    plt.show()\n",
    "\n",
    "plot_keyword_cluster_pie_chart('portuguese', 'portuguese')\n",
    "plot_keyword_cluster_pie_chart('dutch', 'dutch')\n",
    "plot_keyword_cluster_pie_chart('jew|jewish|jews', 'jew')\n",
    "plot_keyword_cluster_pie_chart('syrian|syrians|romo-syrian|romo-syrians', 'syrian')\n",
    "plot_keyword_cluster_pie_chart('hindu|hindus', 'hindu')\n",
    "plot_keyword_cluster_pie_chart('mahomedan|mahomedans|mussalmen', 'muslim')"
   ]
  }
 ],
 "metadata": {
  "kernelspec": {
   "display_name": "Python 3 (ipykernel)",
   "language": "python",
   "name": "python3"
  },
  "language_info": {
   "codemirror_mode": {
    "name": "ipython",
    "version": 3
   },
   "file_extension": ".py",
   "mimetype": "text/x-python",
   "name": "python",
   "nbconvert_exporter": "python",
   "pygments_lexer": "ipython3",
   "version": "3.10.9"
  }
 },
 "nbformat": 4,
 "nbformat_minor": 2
}
